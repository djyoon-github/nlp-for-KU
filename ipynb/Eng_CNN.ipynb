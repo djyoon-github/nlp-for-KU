{
  "nbformat": 4,
  "nbformat_minor": 0,
  "metadata": {
    "colab": {
      "name": "Eng-CNN.ipynb",
      "provenance": [],
      "collapsed_sections": []
    },
    "kernelspec": {
      "name": "python3",
      "display_name": "Python 3"
    }
  },
  "cells": [
    {
      "cell_type": "code",
      "metadata": {
        "colab": {
          "base_uri": "https://localhost:8080/"
        },
        "id": "b-OcUYo5ySQl",
        "outputId": "acddc629-1814-4789-fac7-32f670c7e4ce"
      },
      "source": [
        "from google.colab import drive\r\n",
        "drive.mount('/content/drive')"
      ],
      "execution_count": null,
      "outputs": [
        {
          "output_type": "stream",
          "text": [
            "Mounted at /content/drive\n"
          ],
          "name": "stdout"
        }
      ]
    },
    {
      "cell_type": "code",
      "metadata": {
        "id": "DZm3lnhFy2YC"
      },
      "source": [
        "import json\r\n",
        "import re\r\n",
        "import nltk\r\n",
        "import matplotlib.pyplot as plt\r\n",
        "from sklearn.model_selection import train_test_split\r\n",
        "from nltk.corpus import stopwords\r\n",
        "from nltk.tag import pos_tag\r\n",
        "from nltk.tokenize import word_tokenize\r\n",
        "from nltk.stem.lancaster import LancasterStemmer\r\n",
        "from nltk import Text\r\n",
        "import collections\r\n",
        "from keras.layers.core import Dense, SpatialDropout1D \r\n",
        "from keras.layers.convolutional import Conv1D \r\n",
        "from keras.layers.embeddings import Embedding\r\n",
        "from keras.layers.pooling import GlobalMaxPooling1D\r\n",
        "from keras.layers import LSTM, Input\r\n",
        "from keras.models import Sequential\r\n",
        "from keras.preprocessing.sequence import pad_sequences \r\n",
        "from keras.utils import np_utils\r\n",
        "from tensorflow.keras.models import load_model\r\n",
        "from tensorflow.keras.callbacks import EarlyStopping, ModelCheckpoint"
      ],
      "execution_count": null,
      "outputs": []
    },
    {
      "cell_type": "code",
      "metadata": {
        "colab": {
          "base_uri": "https://localhost:8080/"
        },
        "id": "yYNe2q4Sy2aJ",
        "outputId": "c9913d76-d29e-477b-8308-9bb5dff6c627"
      },
      "source": [
        "nltk.download('punkt')\r\n",
        "nltk.download('averaged_perceptron_tagger')"
      ],
      "execution_count": null,
      "outputs": [
        {
          "output_type": "stream",
          "text": [
            "[nltk_data] Downloading package punkt to /root/nltk_data...\n",
            "[nltk_data]   Unzipping tokenizers/punkt.zip.\n",
            "[nltk_data] Downloading package averaged_perceptron_tagger to\n",
            "[nltk_data]     /root/nltk_data...\n",
            "[nltk_data]   Unzipping taggers/averaged_perceptron_tagger.zip.\n"
          ],
          "name": "stdout"
        },
        {
          "output_type": "execute_result",
          "data": {
            "text/plain": [
              "True"
            ]
          },
          "metadata": {
            "tags": []
          },
          "execution_count": 5
        }
      ]
    },
    {
      "cell_type": "code",
      "metadata": {
        "colab": {
          "base_uri": "https://localhost:8080/"
        },
        "id": "cc0TOTU2y2cR",
        "outputId": "368d4112-d06f-467c-ec52-207ceff04e4d"
      },
      "source": [
        "nltk.download('stopwords')\r\n",
        "stops = set(stopwords.words('english'))\r\n",
        "# 어간추출도 동시에 진행\r\n",
        "stemmer = nltk.stem.SnowballStemmer('english')"
      ],
      "execution_count": null,
      "outputs": [
        {
          "output_type": "stream",
          "text": [
            "[nltk_data] Downloading package stopwords to /root/nltk_data...\n",
            "[nltk_data]   Unzipping corpora/stopwords.zip.\n"
          ],
          "name": "stdout"
        }
      ]
    },
    {
      "cell_type": "code",
      "metadata": {
        "id": "uhRU-aQcy2eb"
      },
      "source": [
        "# dev, train, test data set 불러오기\r\n",
        "with open(\"/content/drive/MyDrive/Python/friends_train.json\") as json_file:\r\n",
        "    json_train = json.load(json_file)\r\n",
        "with open(\"/content/drive/MyDrive/Python/friends_test.json\") as json_file:\r\n",
        "    json_test = json.load(json_file)\r\n",
        "with open(\"/content/drive/MyDrive/Python/friends_dev.json\") as json_file:\r\n",
        "    json_dev = json.load(json_file)"
      ],
      "execution_count": null,
      "outputs": []
    },
    {
      "cell_type": "code",
      "metadata": {
        "id": "e0DHXjSBy2gv"
      },
      "source": [
        "def cleaning(str):\r\n",
        "    replace_all = str\r\n",
        "    eng_only = re.sub('[^a-zA-Z]', ' ', replace_all)\r\n",
        "    # re.sub('패턴', '바꿀문자열', '문자열', 바꿀횟수)\r\n",
        "    # [^a-zA-Z] :\t두 % 문자 사이에 영문자가 없는 패턴\r\n",
        "    no_capitals = eng_only.lower().split() # 소문자로 바꾸기\r\n",
        "    #불용어제거하기\r\n",
        "    no_stops = [word for word in no_capitals if not word in stops]\r\n",
        "    stemmer_words = [stemmer.stem(word) for word in no_stops] \r\n",
        "    return ' '.join(stemmer_words)"
      ],
      "execution_count": null,
      "outputs": []
    },
    {
      "cell_type": "code",
      "metadata": {
        "id": "LFKjmT8Zy2iv"
      },
      "source": [
        "i = 0\r\n",
        "train_data=[]\r\n",
        "test_data=[]\r\n",
        "for rows in json_train:\r\n",
        "    for row in rows:\r\n",
        "        train_data.append([cleaning(row['utterance']), row['emotion']])\r\n",
        "for rows in json_dev:\r\n",
        "    for row in rows:\r\n",
        "        train_data.append([cleaning(row['utterance']), row['emotion']])\r\n",
        "for rows in json_test:\r\n",
        "    for row in rows:\r\n",
        "        test_data.append([cleaning(row['utterance']), row['emotion']])"
      ],
      "execution_count": null,
      "outputs": []
    },
    {
      "cell_type": "code",
      "metadata": {
        "colab": {
          "base_uri": "https://localhost:8080/"
        },
        "id": "VfHcCuA-y2lL",
        "outputId": "b926da80-a516-4a2e-dfdc-28b3d2f497a5"
      },
      "source": [
        "count = 0\r\n",
        "tagged = []\r\n",
        "counter = collections.Counter()\r\n",
        "for d in train_data:\r\n",
        "    count = count + 1\r\n",
        "    if count % 1000 == 0:\r\n",
        "        print(count)\r\n",
        "    words = pos_tag(word_tokenize(d[0]))\r\n",
        "    for t in words:\r\n",
        "        word = \"/\".join(t)\r\n",
        "        tagged.append(word)\r\n",
        "        counter[word] += 1"
      ],
      "execution_count": null,
      "outputs": [
        {
          "output_type": "stream",
          "text": [
            "1000\n",
            "2000\n",
            "3000\n",
            "4000\n",
            "5000\n",
            "6000\n",
            "7000\n",
            "8000\n",
            "9000\n",
            "10000\n",
            "11000\n"
          ],
          "name": "stdout"
        }
      ]
    },
    {
      "cell_type": "code",
      "metadata": {
        "colab": {
          "base_uri": "https://localhost:8080/"
        },
        "id": "lkFT7iCqy2nZ",
        "outputId": "1b0bfab3-60e8-450d-f274-a9716c6bf8cc"
      },
      "source": [
        "count = 0\r\n",
        "tagged = []\r\n",
        "counter = collections.Counter()\r\n",
        "for d in test_data:\r\n",
        "    count = count + 1\r\n",
        "    if count % 1000 == 0:\r\n",
        "        print(count)\r\n",
        "    words = pos_tag(word_tokenize(d[0]))\r\n",
        "    for t in words:\r\n",
        "        word = \"/\".join(t)\r\n",
        "        tagged.append(word)\r\n",
        "        counter[word] += 1"
      ],
      "execution_count": null,
      "outputs": [
        {
          "output_type": "stream",
          "text": [
            "1000\n",
            "2000\n"
          ],
          "name": "stdout"
        }
      ]
    },
    {
      "cell_type": "code",
      "metadata": {
        "id": "dZmwq8wgztOP"
      },
      "source": [
        "VOCAB_SIZE = 5000\r\n",
        "word2_index = collections.defaultdict(int)\r\n",
        "# enumerate 함수 사용하여 높은 빈도일 수록 낮은 인덱스 부여하기\r\n",
        "for wid, word in enumerate(counter.most_common(VOCAB_SIZE)):\r\n",
        "    word2_index[word[0]] = wid + 1\r\n",
        "vocab_sz = len(word2_index) + 1\r\n",
        "index2_word = {v:k for k, v in word2_index.items()}"
      ],
      "execution_count": null,
      "outputs": []
    },
    {
      "cell_type": "code",
      "metadata": {
        "colab": {
          "base_uri": "https://localhost:8080/"
        },
        "id": "hO-Vxluay2pc",
        "outputId": "1faaa2ef-bee8-4158-8074-33011f9630b4"
      },
      "source": [
        "def labeltoint(str):\r\n",
        "    return {'non-neutral': 0,\r\n",
        "             'neutral': 1, \r\n",
        "             'joy': 2,\r\n",
        "             'sadness': 3,\r\n",
        "             'fear': 4,\r\n",
        "             'anger': 5,\r\n",
        "             'surprise': 6,\r\n",
        "             'disgust': 7}[str]\r\n",
        "\r\n",
        "xs, ys = [], []\r\n",
        "count = 0\r\n",
        "maxlen = 0\r\n",
        "for d in train_data:\r\n",
        "    count = count + 1\r\n",
        "    ys.append(labeltoint(d[1]))\r\n",
        "    if count % 1000 == 0:\r\n",
        "        print(count)\r\n",
        "    ang = pos_tag(word_tokenize(d[0]))\r\n",
        "    words=[]\r\n",
        "    for t in ang:\r\n",
        "        words.append(\"/\".join(t))\r\n",
        "    if len(words) > maxlen: \r\n",
        "        maxlen = len(words)\r\n",
        "    wids = [word2_index[word] for word in words]\r\n",
        "    xs.append(wids)"
      ],
      "execution_count": null,
      "outputs": [
        {
          "output_type": "stream",
          "text": [
            "1000\n",
            "2000\n",
            "3000\n",
            "4000\n",
            "5000\n",
            "6000\n",
            "7000\n",
            "8000\n",
            "9000\n",
            "10000\n",
            "11000\n"
          ],
          "name": "stdout"
        }
      ]
    },
    {
      "cell_type": "code",
      "metadata": {
        "colab": {
          "base_uri": "https://localhost:8080/"
        },
        "id": "624GGqdhy2ry",
        "outputId": "d9dee7d6-dbec-4594-8260-c3914c78a258"
      },
      "source": [
        "xs_test, ys_test = [], []\r\n",
        "count = 0\r\n",
        "maxlen = 0\r\n",
        "for d in test_data:\r\n",
        "    count = count + 1\r\n",
        "    ys_test.append(labeltoint(d[1]))\r\n",
        "    if count % 1000 == 0:\r\n",
        "        print(count)\r\n",
        "    ang = pos_tag(word_tokenize(d[0]))\r\n",
        "    words=[]\r\n",
        "    for t in ang:\r\n",
        "        words.append(\"/\".join(t))\r\n",
        "    if len(words) > maxlen: \r\n",
        "        maxlen = len(words)\r\n",
        "    wids = [word2_index[word] for word in words]\r\n",
        "    xs_test.append(wids)"
      ],
      "execution_count": null,
      "outputs": [
        {
          "output_type": "stream",
          "text": [
            "1000\n",
            "2000\n"
          ],
          "name": "stdout"
        }
      ]
    },
    {
      "cell_type": "code",
      "metadata": {
        "id": "daS8r9vcy2uF"
      },
      "source": [
        "X_train = pad_sequences(xs, maxlen=maxlen) \r\n",
        "Y_train = np_utils.to_categorical(ys)\r\n",
        "X_test = pad_sequences(xs_test, maxlen=maxlen) \r\n",
        "Y_test = np_utils.to_categorical(ys_test)"
      ],
      "execution_count": null,
      "outputs": []
    },
    {
      "cell_type": "code",
      "metadata": {
        "colab": {
          "base_uri": "https://localhost:8080/"
        },
        "id": "Z3hpy5WMy2wa",
        "outputId": "c8b9445b-cf19-4016-e48b-72a347e2e668"
      },
      "source": [
        "EMBED_SIZE = 300 \r\n",
        "NUM_FILTERS = 10 \r\n",
        "NUM_WORDS = 3 \r\n",
        "BATCH_SIZE = 512 \r\n",
        "NUM_EPOCHS = 100\r\n",
        "\r\n",
        "model = Sequential() \r\n",
        "model.add(Embedding(vocab_sz, EMBED_SIZE, input_length=maxlen)) \r\n",
        "model.add(SpatialDropout1D(0.5)) \r\n",
        "model.add(Conv1D(filters=NUM_FILTERS, kernel_size=NUM_WORDS, activation=\"relu\")) \r\n",
        "model.add(GlobalMaxPooling1D()) \r\n",
        "model.add(Dense(8, activation=\"softmax\")) \r\n",
        "\r\n",
        "model.summary()"
      ],
      "execution_count": null,
      "outputs": [
        {
          "output_type": "stream",
          "text": [
            "Model: \"sequential\"\n",
            "_________________________________________________________________\n",
            "Layer (type)                 Output Shape              Param #   \n",
            "=================================================================\n",
            "embedding (Embedding)        (None, 24, 300)           843300    \n",
            "_________________________________________________________________\n",
            "spatial_dropout1d (SpatialDr (None, 24, 300)           0         \n",
            "_________________________________________________________________\n",
            "conv1d (Conv1D)              (None, 22, 10)            9010      \n",
            "_________________________________________________________________\n",
            "global_max_pooling1d (Global (None, 10)                0         \n",
            "_________________________________________________________________\n",
            "dense (Dense)                (None, 8)                 88        \n",
            "=================================================================\n",
            "Total params: 852,398\n",
            "Trainable params: 852,398\n",
            "Non-trainable params: 0\n",
            "_________________________________________________________________\n"
          ],
          "name": "stdout"
        }
      ]
    },
    {
      "cell_type": "code",
      "metadata": {
        "id": "jxNnCvICy2y9"
      },
      "source": [
        "es = EarlyStopping(monitor='val_loss', mode='min', verbose=1, patience=4)\r\n",
        "mc = ModelCheckpoint('best_model_en2.h5', monitor='val_acc', mode='max', verbose=1, save_best_only=True)"
      ],
      "execution_count": null,
      "outputs": []
    },
    {
      "cell_type": "code",
      "metadata": {
        "colab": {
          "base_uri": "https://localhost:8080/"
        },
        "id": "2ErSyeV4y21a",
        "outputId": "103d0090-567e-40af-ff38-7e6628636ee1"
      },
      "source": [
        "model.compile(optimizer=\"adam\", loss=\"categorical_crossentropy\", metrics=[\"accuracy\"]) \r\n",
        "history = model.fit(X_train, Y_train, batch_size=BATCH_SIZE, epochs=NUM_EPOCHS,callbacks=[es, mc], validation_split=0.2)"
      ],
      "execution_count": null,
      "outputs": [
        {
          "output_type": "stream",
          "text": [
            "Epoch 1/100\n",
            "19/19 [==============================] - 4s 148ms/step - loss: 2.0280 - accuracy: 0.2296 - val_loss: 1.9262 - val_accuracy: 0.4306\n",
            "WARNING:tensorflow:Can save best model only with val_acc available, skipping.\n",
            "Epoch 2/100\n",
            "19/19 [==============================] - 3s 138ms/step - loss: 1.8681 - accuracy: 0.4548 - val_loss: 1.8677 - val_accuracy: 0.4306\n",
            "WARNING:tensorflow:Can save best model only with val_acc available, skipping.\n",
            "Epoch 3/100\n",
            "19/19 [==============================] - 3s 132ms/step - loss: 1.7787 - accuracy: 0.4490 - val_loss: 1.8022 - val_accuracy: 0.4306\n",
            "WARNING:tensorflow:Can save best model only with val_acc available, skipping.\n",
            "Epoch 4/100\n",
            "19/19 [==============================] - 3s 137ms/step - loss: 1.7135 - accuracy: 0.4486 - val_loss: 1.7635 - val_accuracy: 0.4306\n",
            "WARNING:tensorflow:Can save best model only with val_acc available, skipping.\n",
            "Epoch 5/100\n",
            "19/19 [==============================] - 3s 133ms/step - loss: 1.6705 - accuracy: 0.4557 - val_loss: 1.7242 - val_accuracy: 0.4310\n",
            "WARNING:tensorflow:Can save best model only with val_acc available, skipping.\n",
            "Epoch 6/100\n",
            "19/19 [==============================] - 2s 119ms/step - loss: 1.6129 - accuracy: 0.4587 - val_loss: 1.6933 - val_accuracy: 0.4323\n",
            "WARNING:tensorflow:Can save best model only with val_acc available, skipping.\n",
            "Epoch 7/100\n",
            "19/19 [==============================] - 2s 116ms/step - loss: 1.5831 - accuracy: 0.4643 - val_loss: 1.6629 - val_accuracy: 0.4348\n",
            "WARNING:tensorflow:Can save best model only with val_acc available, skipping.\n",
            "Epoch 8/100\n",
            "19/19 [==============================] - 2s 128ms/step - loss: 1.5213 - accuracy: 0.4808 - val_loss: 1.6337 - val_accuracy: 0.4395\n",
            "WARNING:tensorflow:Can save best model only with val_acc available, skipping.\n",
            "Epoch 9/100\n",
            "19/19 [==============================] - 2s 116ms/step - loss: 1.4518 - accuracy: 0.5091 - val_loss: 1.6177 - val_accuracy: 0.4442\n",
            "WARNING:tensorflow:Can save best model only with val_acc available, skipping.\n",
            "Epoch 10/100\n",
            "19/19 [==============================] - 2s 115ms/step - loss: 1.3921 - accuracy: 0.5462 - val_loss: 1.6104 - val_accuracy: 0.4514\n",
            "WARNING:tensorflow:Can save best model only with val_acc available, skipping.\n",
            "Epoch 11/100\n",
            "19/19 [==============================] - 2s 114ms/step - loss: 1.3548 - accuracy: 0.5552 - val_loss: 1.6091 - val_accuracy: 0.4523\n",
            "WARNING:tensorflow:Can save best model only with val_acc available, skipping.\n",
            "Epoch 12/100\n",
            "19/19 [==============================] - 2s 113ms/step - loss: 1.3236 - accuracy: 0.5638 - val_loss: 1.6148 - val_accuracy: 0.4468\n",
            "WARNING:tensorflow:Can save best model only with val_acc available, skipping.\n",
            "Epoch 13/100\n",
            "19/19 [==============================] - 2s 116ms/step - loss: 1.2726 - accuracy: 0.5808 - val_loss: 1.6191 - val_accuracy: 0.4472\n",
            "WARNING:tensorflow:Can save best model only with val_acc available, skipping.\n",
            "Epoch 14/100\n",
            "19/19 [==============================] - 2s 115ms/step - loss: 1.2482 - accuracy: 0.5935 - val_loss: 1.6270 - val_accuracy: 0.4425\n",
            "WARNING:tensorflow:Can save best model only with val_acc available, skipping.\n",
            "Epoch 15/100\n",
            "19/19 [==============================] - 2s 117ms/step - loss: 1.1933 - accuracy: 0.6107 - val_loss: 1.6404 - val_accuracy: 0.4438\n",
            "WARNING:tensorflow:Can save best model only with val_acc available, skipping.\n",
            "Epoch 00015: early stopping\n"
          ],
          "name": "stdout"
        }
      ]
    },
    {
      "cell_type": "code",
      "metadata": {
        "colab": {
          "base_uri": "https://localhost:8080/",
          "height": 279
        },
        "id": "Osqk2Wqxy26S",
        "outputId": "1e3c1bce-9dc7-4227-85e1-5dbc3628d23f"
      },
      "source": [
        "fig, loss_ax = plt.subplots()\r\n",
        "acc_ax = loss_ax.twinx()\r\n",
        "\r\n",
        "loss_ax.plot(history.history['loss'], 'y', label='train loss')\r\n",
        "loss_ax.plot(history.history['val_loss'], 'r', label='val loss')\r\n",
        "loss_ax.set_xlabel('epoch')\r\n",
        "loss_ax.set_ylabel('loss')\r\n",
        "loss_ax.legend(loc='upper right')\r\n",
        "\r\n",
        "acc_ax.plot(history.history['accuracy'], 'b', label='train acc')\r\n",
        "acc_ax.plot(history.history['val_accuracy'], 'g', label='val acc')\r\n",
        "acc_ax.set_ylabel('accuracy')\r\n",
        "acc_ax.legend(loc='upper left')\r\n",
        "\r\n",
        "plt.show()"
      ],
      "execution_count": null,
      "outputs": [
        {
          "output_type": "display_data",
          "data": {
            "image/png": "[encoded data removed]",
            "text/plain": [
              "<Figure size 432x288 with 2 Axes>"
            ]
          },
          "metadata": {
            "tags": [],
            "needs_background": "light"
          }
        }
      ]
    },
    {
      "cell_type": "code",
      "metadata": {
        "colab": {
          "base_uri": "https://localhost:8080/"
        },
        "id": "ws8N6kIfy286",
        "outputId": "995bd988-cd3e-43ae-b8e2-9d7982718eb2"
      },
      "source": [
        "score = model.evaluate(X_test, Y_test, verbose=1)\r\n",
        "print(\"Test score: {:.3f}, accuracy: {:.3f}\".format(score[0], score[1]))"
      ],
      "execution_count": null,
      "outputs": [
        {
          "output_type": "stream",
          "text": [
            "87/87 [==============================] - 0s 3ms/step - loss: 1.5819 - accuracy: 0.4595\n",
            "Test score: 1.582, accuracy: 0.459\n"
          ],
          "name": "stdout"
        }
      ]
    },
    {
      "cell_type": "code",
      "metadata": {
        "id": "O3sS9Q_gy2_L"
      },
      "source": [
        "def inttolabel(idx):\r\n",
        "    return {0:'non-neutral',\r\n",
        "             1:'neutral', \r\n",
        "             2:'joy',\r\n",
        "             3:'sadness',\r\n",
        "             4:'fear',\r\n",
        "             5:'anger',\r\n",
        "             6:'surprise',\r\n",
        "             7:'disgust'}[idx]\r\n",
        "\r\n",
        "def predict(text): \r\n",
        "    aa = pos_tag(word_tokenize(text))\r\n",
        "    pp = []\r\n",
        "    for t in aa:\r\n",
        "        pp.append(\"/\".join(t))\r\n",
        "    wids = [word2_index[word] for word in pp]\r\n",
        "    x_predict = pad_sequences([wids], maxlen=maxlen) \r\n",
        "    y_predict = model.predict(x_predict) \r\n",
        "    c = 0\r\n",
        "    cnt = 0\r\n",
        "    for y in y_predict[0]:\r\n",
        "        if c < y:\r\n",
        "            c = y\r\n",
        "            ans = cnt\r\n",
        "        cnt += 1\r\n",
        "    ans = inttolabel(ans)\r\n",
        "    return ans;"
      ],
      "execution_count": null,
      "outputs": []
    },
    {
      "cell_type": "code",
      "metadata": {
        "id": "gmcst88e2dUU"
      },
      "source": [
        "import pandas as pd\r\n",
        "data = pd.read_csv(\"/content/drive/MyDrive/Python/en_data.csv\", sep=\",\", encoding=\"utf-8\")\r\n",
        "data.to_csv(\"/content/drive/MyDrive/Python/en_data.csv\", sep=\",\", index=False)"
      ],
      "execution_count": null,
      "outputs": []
    },
    {
      "cell_type": "code",
      "metadata": {
        "id": "E9XozH8H2dW1"
      },
      "source": [
        "data['Expected'] = ''"
      ],
      "execution_count": null,
      "outputs": []
    },
    {
      "cell_type": "code",
      "metadata": {
        "id": "5lx4DWpJ2dZv"
      },
      "source": [
        "for i in range(0,len(data)):\r\n",
        "  data.loc[i,'Expected'] = predict(data.loc[i,'utterance'])"
      ],
      "execution_count": null,
      "outputs": []
    },
    {
      "cell_type": "code",
      "metadata": {
        "colab": {
          "base_uri": "https://localhost:8080/"
        },
        "id": "MaFpujRK2db1",
        "outputId": "81203417-72a2-4679-921e-5c8a98f1faab"
      },
      "source": [
        "data['Expected'].value_counts()"
      ],
      "execution_count": null,
      "outputs": [
        {
          "output_type": "execute_result",
          "data": {
            "text/plain": [
              "neutral        1327\n",
              "non-neutral     223\n",
              "joy              37\n",
              "surprise         36\n",
              "Name: Expected, dtype: int64"
            ]
          },
          "metadata": {
            "tags": []
          },
          "execution_count": 25
        }
      ]
    },
    {
      "cell_type": "code",
      "metadata": {
        "id": "caPLG0ZV2deC"
      },
      "source": [
        "data.to_csv(\"/content/drive/MyDrive/Python/sample_eng_6.csv\", sep=\",\", index=False)"
      ],
      "execution_count": null,
      "outputs": []
    }
  ]
}
